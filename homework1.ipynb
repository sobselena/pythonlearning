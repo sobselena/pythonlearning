{
 "cells": [
  {
   "cell_type": "markdown",
   "id": "e0079c60-d0ed-4aa4-b1bb-e52d3832e7db",
   "metadata": {},
   "source": [
    "Упражнение. Перестановка"
   ]
  },
  {
   "cell_type": "code",
   "execution_count": 2,
   "id": "53d14944-02fb-4a99-a44c-9666b84799bd",
   "metadata": {},
   "outputs": [
    {
     "name": "stdin",
     "output_type": "stream",
     "text": [
      " 1 2 3 4 5\n"
     ]
    },
    {
     "name": "stdout",
     "output_type": "stream",
     "text": [
      "[2, 1, 4, 3, 5]\n"
     ]
    }
   ],
   "source": [
    "a = list(map(int, input().split()))\n",
    "for i in range(0,len(a) - len(a) % 2 ,2): a[i+1], a[i] = a[i], a[i+1]\n",
    "print(a)"
   ]
  },
  {
   "cell_type": "markdown",
   "id": "182228f6-60f1-46e8-b1fa-40acdfdfb721",
   "metadata": {},
   "source": [
    "Упражнение. Циклический сдвиг"
   ]
  },
  {
   "cell_type": "code",
   "execution_count": 4,
   "id": "6357ab7c-060d-4655-b450-eacf7076a2bf",
   "metadata": {},
   "outputs": [
    {
     "name": "stdin",
     "output_type": "stream",
     "text": [
      " 1 2 3 4 5\n"
     ]
    },
    {
     "name": "stdout",
     "output_type": "stream",
     "text": [
      "5 1 2 3 4 "
     ]
    }
   ],
   "source": [
    "a = list(map(int, input().split()))\n",
    "print(a[len(a)-1], end=\" \")\n",
    "for i in range(len(a)-1): \n",
    "    print(a[i], end=\" \")"
   ]
  },
  {
   "cell_type": "code",
   "execution_count": 6,
   "id": "5afd12a2-8e05-4764-9b4b-ec63ff549c15",
   "metadata": {},
   "outputs": [
    {
     "name": "stdin",
     "output_type": "stream",
     "text": [
      " 1 2 3 4 5\n"
     ]
    },
    {
     "name": "stdout",
     "output_type": "stream",
     "text": [
      "5 1 2 3 4\n"
     ]
    }
   ],
   "source": [
    "a = list(map(int, input().split()))\n",
    "print(*(a[-1:] + a[:-1]))"
   ]
  },
  {
   "cell_type": "markdown",
   "id": "59195a34-d191-4f53-8e89-6750e362a05e",
   "metadata": {},
   "source": [
    "Упражнение. Уникальные элементы"
   ]
  },
  {
   "cell_type": "code",
   "execution_count": 8,
   "id": "fb30eb95-6e80-47d5-b41c-998d67f45b33",
   "metadata": {},
   "outputs": [
    {
     "name": "stdin",
     "output_type": "stream",
     "text": [
      " 1 2 2 3 3 3\n"
     ]
    },
    {
     "name": "stdout",
     "output_type": "stream",
     "text": [
      "1 "
     ]
    }
   ],
   "source": [
    "a = list(map(int, input().split()))\n",
    "for i in a:\n",
    "    if a.count(i) == 1:\n",
    "        print(i, end=\" \")"
   ]
  },
  {
   "cell_type": "markdown",
   "id": "657d7a4e-2993-4907-9b5f-3a077089fe1f",
   "metadata": {},
   "source": [
    "Упражнение. Самое частое число"
   ]
  },
  {
   "cell_type": "code",
   "execution_count": 10,
   "id": "c1e1e581-45fe-47dc-ba6b-7bb0c9a1eb76",
   "metadata": {},
   "outputs": [
    {
     "name": "stdin",
     "output_type": "stream",
     "text": [
      " 1 2 3 2 3 3\n"
     ]
    },
    {
     "name": "stdout",
     "output_type": "stream",
     "text": [
      "3\n"
     ]
    }
   ],
   "source": [
    "a = list(map(int, input().split()))\n",
    "Max = a.count(a[0])\n",
    "num = a[0]\n",
    "for i in range(1, len(a)):\n",
    "    if a.count(i) > Max:\n",
    "        Max = a.count(i)\n",
    "        num = i\n",
    "print(num)"
   ]
  },
  {
   "cell_type": "markdown",
   "id": "e8b8d063-4197-4748-82e2-79bc86cd699e",
   "metadata": {},
   "source": [
    "Упражнение. Групповое обращение"
   ]
  },
  {
   "cell_type": "code",
   "execution_count": 12,
   "id": "c09c91c3-724c-4648-9cbc-22fed4312b58",
   "metadata": {},
   "outputs": [
    {
     "name": "stdin",
     "output_type": "stream",
     "text": [
      " 3 ABCEHSHSH\n"
     ]
    },
    {
     "name": "stdout",
     "output_type": "stream",
     "text": [
      "CBASHEHSH"
     ]
    }
   ],
   "source": [
    "values = list(map(str,input().split()))\n",
    "G = int(values[0])\n",
    "message = values[1]\n",
    "print(message[G-1::-1], end=\"\")\n",
    "for i in range(G-1, len(message), G):\n",
    "    print(message[i:i-G:-1], end=\"\")"
   ]
  },
  {
   "cell_type": "code",
   "execution_count": null,
   "id": "284290ac-694c-4a7f-a777-3d84263204cb",
   "metadata": {},
   "outputs": [],
   "source": []
  }
 ],
 "metadata": {
  "kernelspec": {
   "display_name": "Python 3 (ipykernel)",
   "language": "python",
   "name": "python3"
  },
  "language_info": {
   "codemirror_mode": {
    "name": "ipython",
    "version": 3
   },
   "file_extension": ".py",
   "mimetype": "text/x-python",
   "name": "python",
   "nbconvert_exporter": "python",
   "pygments_lexer": "ipython3",
   "version": "3.12.4"
  }
 },
 "nbformat": 4,
 "nbformat_minor": 5
}
