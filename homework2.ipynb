{
 "cells": [
  {
   "cell_type": "code",
   "execution_count": 40,
   "id": "bd180e8c-2de7-40d7-8113-126c9ca1763b",
   "metadata": {},
   "outputs": [
    {
     "name": "stdin",
     "output_type": "stream",
     "text": [
      " 65\n"
     ]
    },
    {
     "name": "stdout",
     "output_type": "stream",
     "text": [
      "5 13\n"
     ]
    }
   ],
   "source": [
    "n = int(input())\n",
    "i = 2\n",
    "multipliers = []\n",
    "while i * i <= n:\n",
    "    if n % i != 0:\n",
    "        i += 1\n",
    "    else:\n",
    "        n //= i\n",
    "        multipliers.append(i)\n",
    "if n > 1:\n",
    "    multipliers.append(n)\n",
    "print(*multipliers)"
   ]
  },
  {
   "cell_type": "code",
   "execution_count": null,
   "id": "d3523da4-db50-4830-8408-840eae82a54e",
   "metadata": {},
   "outputs": [],
   "source": []
  }
 ],
 "metadata": {
  "kernelspec": {
   "display_name": "Python 3 (ipykernel)",
   "language": "python",
   "name": "python3"
  },
  "language_info": {
   "codemirror_mode": {
    "name": "ipython",
    "version": 3
   },
   "file_extension": ".py",
   "mimetype": "text/x-python",
   "name": "python",
   "nbconvert_exporter": "python",
   "pygments_lexer": "ipython3",
   "version": "3.12.4"
  }
 },
 "nbformat": 4,
 "nbformat_minor": 5
}
