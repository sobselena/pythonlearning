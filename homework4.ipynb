{
 "cells": [
  {
   "cell_type": "code",
   "execution_count": 6,
   "id": "d659ad4f-12a1-4aac-aef0-37b133599c94",
   "metadata": {},
   "outputs": [
    {
     "name": "stdout",
     "output_type": "stream",
     "text": [
      "Автор: Шекспир\n",
      "Шекспир написал(а) произведение \"Гамлет\" в 1603 году.\n",
      "Жанр: трагедия\n",
      "Автор: Харпер ли\n",
      "Харпер ли написал(а) произведение \"Убить пересмешника\" в 1960 году.\n",
      "Жанр: реализм\n"
     ]
    }
   ],
   "source": [
    "class Author:\n",
    "    def __init__(self, name, year):\n",
    "        self.name = name\n",
    "        self.year = year\n",
    "    def section(self):\n",
    "        print(f'Автор: {self.name}')\n",
    "class Works(Author):\n",
    "    def __init__(self, name, year, genre, title):\n",
    "        super().__init__(name, year)\n",
    "        self.title = title\n",
    "        self.genre = genre\n",
    "    def genre_(self):\n",
    "        print(f'Жанр: {self.genre}')\n",
    "    def info(self):\n",
    "        print(f'{self.name} написал(а) произведение \"{self.title}\" в {self.year} году.')\n",
    "\n",
    "author1 = Works('Шекспир', 1603, 'трагедия', 'Гамлет')\n",
    "author2 = Works('Харпер ли',  1960, 'реализм', 'Убить пересмешника')\n",
    "author1.section()\n",
    "author1.info()\n",
    "author1.genre_()\n",
    "author2.section()\n",
    "author2.info()\n",
    "author2.genre_()"
   ]
  },
  {
   "cell_type": "code",
   "execution_count": null,
   "id": "afeaffa9-c712-40e2-bd05-25e2315bf9dc",
   "metadata": {},
   "outputs": [],
   "source": []
  }
 ],
 "metadata": {
  "kernelspec": {
   "display_name": "Python 3 (ipykernel)",
   "language": "python",
   "name": "python3"
  },
  "language_info": {
   "codemirror_mode": {
    "name": "ipython",
    "version": 3
   },
   "file_extension": ".py",
   "mimetype": "text/x-python",
   "name": "python",
   "nbconvert_exporter": "python",
   "pygments_lexer": "ipython3",
   "version": "3.12.4"
  }
 },
 "nbformat": 4,
 "nbformat_minor": 5
}
